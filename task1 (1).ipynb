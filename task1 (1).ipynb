{
  "nbformat": 4,
  "nbformat_minor": 0,
  "metadata": {
    "colab": {
      "name": "task1.ipynb",
      "provenance": [],
      "collapsed_sections": []
    },
    "kernelspec": {
      "name": "python3",
      "display_name": "Python 3"
    },
    "accelerator": "GPU"
  },
  "cells": [
    {
      "cell_type": "code",
      "metadata": {
        "id": "JewypEZ3xnOB",
        "colab_type": "code",
        "outputId": "3ef427a7-1126-4376-bd66-ab3252f22439",
        "colab": {
          "base_uri": "https://localhost:8080/",
          "height": 285
        }
      },
      "source": [
        "from sklearn import datasets\n",
        "import matplotlib.pyplot as plt\n",
        "import tensorflow as tf\n",
        "from sklearn.model_selection import train_test_split\n",
        "\n",
        "import keras\n",
        "from keras.datasets import mnist\n",
        "from keras.models import Sequential\n",
        "from tensorflow.keras.regularizers import l2\n",
        "from keras.layers import Dense, Dropout, Activation, Flatten\n",
        "from keras.layers import Conv2D, MaxPooling2D\n",
        "from keras.wrappers.scikit_learn import KerasClassifier\n",
        "from keras import backend as K\n",
        "from sklearn.model_selection import GridSearchCV\n",
        "\n",
        "# Load the digits dataset and visualize\n",
        "digits = datasets.load_digits()\n",
        "_, axes = plt.subplots(2, 4)\n",
        "images_and_labels = list(zip(digits.images, digits.target))\n",
        "for ax, (image, label) in zip(axes[0, :], images_and_labels[:4]):\n",
        "    ax.set_axis_off()\n",
        "    ax.imshow(image, cmap=plt.cm.gray_r, interpolation='nearest')\n",
        "    ax.set_title('Training: %i' % label)"
      ],
      "execution_count": 1,
      "outputs": [
        {
          "output_type": "stream",
          "text": [
            "Using TensorFlow backend.\n"
          ],
          "name": "stderr"
        },
        {
          "output_type": "display_data",
          "data": {
            "image/png": "[encoded data removed]",
            "text/plain": [
              "<Figure size 432x288 with 8 Axes>"
            ]
          },
          "metadata": {
            "tags": [],
            "needs_background": "light"
          }
        }
      ]
    },
    {
      "cell_type": "code",
      "metadata": {
        "id": "vlKto77R0ITb",
        "colab_type": "code",
        "colab": {}
      },
      "source": [
        "# Reshape the data for keras\n",
        "n_samples = len(digits.images)\n",
        "data = digits.images.reshape((n_samples, -1))"
      ],
      "execution_count": 0,
      "outputs": []
    },
    {
      "cell_type": "code",
      "metadata": {
        "id": "hvfvOVLL05NL",
        "colab_type": "code",
        "colab": {}
      },
      "source": [
        "# Split data into train and test subsets\n",
        "X_train_val, X_test, y_train_val, y_test = train_test_split(\n",
        "    data, digits.target, test_size=0.5, shuffle=False)\n",
        "X_train, X_val, y_train, y_val = train_test_split(\n",
        "    X_train_val, y_train_val, shuffle=False)"
      ],
      "execution_count": 0,
      "outputs": []
    },
    {
      "cell_type": "code",
      "metadata": {
        "id": "e8V5YPJ7GKyF",
        "colab_type": "code",
        "colab": {}
      },
      "source": [
        "def create_model(l2_penalty):\n",
        "    model = Sequential()\n",
        "    model.add(Dense(128, activation='relu', kernel_regularizer = l2(l2_penalty)))\n",
        "    model.add(Dense(128, activation='relu', kernel_regularizer = l2(l2_penalty)))\n",
        "    model.add(Dense(10, activation='softmax'))\n",
        "\n",
        "    model.compile(loss='sparse_categorical_crossentropy',\n",
        "                  optimizer='adadelta',\n",
        "                  metrics=['accuracy'])\n",
        "    return model"
      ],
      "execution_count": 0,
      "outputs": []
    },
    {
      "cell_type": "code",
      "metadata": {
        "id": "wCFj4Q4xRa6d",
        "colab_type": "code",
        "outputId": "df5a9bd0-bcf9-4c65-fc06-0b8d96d84b76",
        "colab": {
          "base_uri": "https://localhost:8080/",
          "height": 136
        }
      },
      "source": [
        "# create model\n",
        "model = KerasClassifier(build_fn=create_model, verbose=0)\n",
        "# define the grid search parameters\n",
        "l2_penalty = [0.0001, 0.001, 0.005, 0.01, 0.05, 0.1]\n",
        "param_grid = dict(l2_penalty = l2_penalty)\n",
        "grid = GridSearchCV(estimator=model, param_grid=param_grid, n_jobs=-1, cv=3)\n",
        "grid_result = grid.fit(X_val, y_val)\n",
        "# summarize results\n",
        "print(\"Best: %f using %s\" % (grid_result.best_score_, grid_result.best_params_))\n",
        "means = grid_result.cv_results_['mean_test_score']\n",
        "stds = grid_result.cv_results_['std_test_score']\n",
        "params = grid_result.cv_results_['params']\n",
        "for mean, stdev, param in zip(means, stds, params):\n",
        "    print(\"%f (%f) with: %r\" % (mean, stdev, param))"
      ],
      "execution_count": 0,
      "outputs": [
        {
          "output_type": "stream",
          "text": [
            "Best: 0.395556 using {'l2_penalty': 0.0001}\n",
            "0.395556 (0.063790) with: {'l2_penalty': 0.0001}\n",
            "0.302222 (0.080247) with: {'l2_penalty': 0.001}\n",
            "0.328889 (0.093861) with: {'l2_penalty': 0.005}\n",
            "0.320000 (0.057607) with: {'l2_penalty': 0.01}\n",
            "0.311111 (0.050283) with: {'l2_penalty': 0.05}\n",
            "0.351111 (0.022662) with: {'l2_penalty': 0.1}\n"
          ],
          "name": "stdout"
        }
      ]
    },
    {
      "cell_type": "code",
      "metadata": {
        "id": "qbxeVXL0T6jj",
        "colab_type": "code",
        "outputId": "071ab7ad-ba52-45eb-8fce-53e20e38c015",
        "colab": {
          "base_uri": "https://localhost:8080/",
          "height": 204
        }
      },
      "source": [
        "model = create_model(0.0001)\n",
        "model.fit(X_train, y_train, epochs=5)"
      ],
      "execution_count": 0,
      "outputs": [
        {
          "output_type": "stream",
          "text": [
            "Epoch 1/5\n",
            "673/673 [==============================] - 0s 225us/step - loss: 1.5192 - accuracy: 0.6033\n",
            "Epoch 2/5\n",
            "673/673 [==============================] - 0s 54us/step - loss: 0.3830 - accuracy: 0.8811\n",
            "Epoch 3/5\n",
            "673/673 [==============================] - 0s 57us/step - loss: 0.1746 - accuracy: 0.9569\n",
            "Epoch 4/5\n",
            "673/673 [==============================] - 0s 57us/step - loss: 0.1066 - accuracy: 0.9837\n",
            "Epoch 5/5\n",
            "673/673 [==============================] - 0s 53us/step - loss: 0.0805 - accuracy: 0.9866\n"
          ],
          "name": "stdout"
        },
        {
          "output_type": "execute_result",
          "data": {
            "text/plain": [
              "<keras.callbacks.callbacks.History at 0x7fa6b73a1198>"
            ]
          },
          "metadata": {
            "tags": []
          },
          "execution_count": 5
        }
      ]
    },
    {
      "cell_type": "code",
      "metadata": {
        "id": "KnUuQ0JjXVAH",
        "colab_type": "code",
        "outputId": "7b0aed4d-b71d-4f1b-9608-758aebd77179",
        "colab": {
          "base_uri": "https://localhost:8080/",
          "height": 34
        }
      },
      "source": [
        "model.evaluate(X_test,  y_test, verbose=2)"
      ],
      "execution_count": 0,
      "outputs": [
        {
          "output_type": "execute_result",
          "data": {
            "text/plain": [
              "[0.4792458794439197, 0.8631812930107117]"
            ]
          },
          "metadata": {
            "tags": []
          },
          "execution_count": 7
        }
      ]
    }
  ]
}